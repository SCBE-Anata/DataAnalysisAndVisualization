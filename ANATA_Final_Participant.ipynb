{
 "cells": [
  {
   "cell_type": "markdown",
   "metadata": {
    "id": "oGYDZvXF_0mV"
   },
   "source": [
    "## Introduction to Data Analysis and Visualisation\n"
   ]
  },
  {
   "cell_type": "code",
   "execution_count": null,
   "metadata": {
    "executionInfo": {
     "elapsed": 2680,
     "status": "ok",
     "timestamp": 1602417111341,
     "user": {
      "displayName": "Yee Hong Ng",
      "photoUrl": "https://lh3.googleusercontent.com/a-/AOh14GgS0QilRQRwkflMS5mCNwfT3TmC3rDn-JQ3epH0hv8=s64",
      "userId": "04330471012124062161"
     },
     "user_tz": -480
    },
    "id": "2uVgS507_0mZ"
   },
   "outputs": [],
   "source": [
    "# Basic Libraries\n",
    "import numpy as np\n",
    "import pandas as pd\n",
    "import seaborn as sb\n",
    "import matplotlib.pyplot as plt # we only need pyplot\n",
    "sb.set() # set the default Seaborn style for graphics"
   ]
  },
  {
   "cell_type": "markdown",
   "metadata": {
    "id": "lKsQOpyF_0mn"
   },
   "source": [
    "**Reading CSV file using panda library**"
   ]
  },
  {
   "cell_type": "code",
   "execution_count": null,
   "metadata": {
    "executionInfo": {
     "elapsed": 4241,
     "status": "ok",
     "timestamp": 1602411030184,
     "user": {
      "displayName": "Yee Hong Ng",
      "photoUrl": "https://lh3.googleusercontent.com/a-/AOh14GgS0QilRQRwkflMS5mCNwfT3TmC3rDn-JQ3epH0hv8=s64",
      "userId": "04330471012124062161"
     },
     "user_tz": -480
    },
    "id": "1UOuvmi4_0mp",
    "scrolled": true
   },
   "outputs": [],
   "source": [
    "data = pd.read_csv('pseudo_facebook.csv')"
   ]
  },
  {
   "cell_type": "markdown",
   "metadata": {
    "id": "KIHoseU0_0m3"
   },
   "source": [
    "**Checking first and last five rows**\n",
    "* `.head()`: Observing the first 5 rows "
   ]
  },
  {
   "cell_type": "code",
   "execution_count": null,
   "metadata": {
    "colab": {
     "base_uri": "https://localhost:8080/",
     "height": 224
    },
    "executionInfo": {
     "elapsed": 2924,
     "status": "ok",
     "timestamp": 1602411030187,
     "user": {
      "displayName": "Yee Hong Ng",
      "photoUrl": "https://lh3.googleusercontent.com/a-/AOh14GgS0QilRQRwkflMS5mCNwfT3TmC3rDn-JQ3epH0hv8=s64",
      "userId": "04330471012124062161"
     },
     "user_tz": -480
    },
    "id": "7oB5DH_O_0m5",
    "outputId": "da1cedba-eb79-48ca-da84-b711edae0d3d"
   },
   "outputs": [],
   "source": [
    "data.head()"
   ]
  },
  {
   "cell_type": "markdown",
   "metadata": {},
   "source": [
    "<font color=blue> <b> Practice 1 </b> </font>"
   ]
  },
  {
   "cell_type": "code",
   "execution_count": null,
   "metadata": {
    "colab": {
     "base_uri": "https://localhost:8080/",
     "height": 224
    },
    "executionInfo": {
     "elapsed": 2331,
     "status": "ok",
     "timestamp": 1602411033504,
     "user": {
      "displayName": "Yee Hong Ng",
      "photoUrl": "https://lh3.googleusercontent.com/a-/AOh14GgS0QilRQRwkflMS5mCNwfT3TmC3rDn-JQ3epH0hv8=s64",
      "userId": "04330471012124062161"
     },
     "user_tz": -480
    },
    "id": "2-NMkbjU_0nG",
    "outputId": "4647b4f6-b3f7-4b79-a59c-cb830400e66c"
   },
   "outputs": [],
   "source": [
    "# How to retrieve the last 5 rows in dataset\n",
    "\n",
    "\n"
   ]
  },
  {
   "cell_type": "markdown",
   "metadata": {
    "id": "RKSLGMWmC7J_"
   },
   "source": [
    "**Checking the total rows and columns**"
   ]
  },
  {
   "cell_type": "code",
   "execution_count": null,
   "metadata": {
    "colab": {
     "base_uri": "https://localhost:8080/",
     "height": 34
    },
    "executionInfo": {
     "elapsed": 3529,
     "status": "ok",
     "timestamp": 1602411038728,
     "user": {
      "displayName": "Yee Hong Ng",
      "photoUrl": "https://lh3.googleusercontent.com/a-/AOh14GgS0QilRQRwkflMS5mCNwfT3TmC3rDn-JQ3epH0hv8=s64",
      "userId": "04330471012124062161"
     },
     "user_tz": -480
    },
    "id": "MojVE1yH_0nQ",
    "outputId": "de256265-ac6c-4012-fc35-75ebab3e4521"
   },
   "outputs": [],
   "source": [
    "print(data.shape)"
   ]
  },
  {
   "cell_type": "markdown",
   "metadata": {
    "id": "vcRB7xke_0nb"
   },
   "source": [
    "## Data Cleaning\n",
    "* Clean off null and unnecessary data\n",
    "\n"
   ]
  },
  {
   "cell_type": "markdown",
   "metadata": {
    "id": "z37iLVPlDPkt"
   },
   "source": [
    "**Checking the type of variables**\n",
    "* `.dtypes` provides the type of variables for each column\n",
    "* `.info()` provides information of missing values, the data type, number of rows as well as memory usage"
   ]
  },
  {
   "cell_type": "code",
   "execution_count": null,
   "metadata": {
    "colab": {
     "base_uri": "https://localhost:8080/",
     "height": 289
    },
    "executionInfo": {
     "elapsed": 1882,
     "status": "ok",
     "timestamp": 1602411039252,
     "user": {
      "displayName": "Yee Hong Ng",
      "photoUrl": "https://lh3.googleusercontent.com/a-/AOh14GgS0QilRQRwkflMS5mCNwfT3TmC3rDn-JQ3epH0hv8=s64",
      "userId": "04330471012124062161"
     },
     "user_tz": -480
    },
    "id": "r2FaSCVD_0nd",
    "outputId": "bda1a4a9-9b7d-4dde-9353-c45b7db9449e"
   },
   "outputs": [],
   "source": [
    "# method 1\n",
    "data.dtypes"
   ]
  },
  {
   "cell_type": "code",
   "execution_count": null,
   "metadata": {
    "colab": {
     "base_uri": "https://localhost:8080/",
     "height": 391
    },
    "executionInfo": {
     "elapsed": 996,
     "status": "ok",
     "timestamp": 1602411039253,
     "user": {
      "displayName": "Yee Hong Ng",
      "photoUrl": "https://lh3.googleusercontent.com/a-/AOh14GgS0QilRQRwkflMS5mCNwfT3TmC3rDn-JQ3epH0hv8=s64",
      "userId": "04330471012124062161"
     },
     "user_tz": -480
    },
    "id": "CanypXSY_0nq",
    "outputId": "a08c0a6d-aa70-47de-9fae-a1cab3363aec"
   },
   "outputs": [],
   "source": [
    "# method 2\n",
    "data.info()"
   ]
  },
  {
   "cell_type": "markdown",
   "metadata": {
    "id": "pbe2keOrD43y"
   },
   "source": [
    "**Checking of columns name**\n",
    "* `df.columns.unique()` gives the unique column names. Check if there is unnecessary spaces in the column names and replace it accordingly. "
   ]
  },
  {
   "cell_type": "code",
   "execution_count": null,
   "metadata": {
    "colab": {
     "base_uri": "https://localhost:8080/",
     "height": 102
    },
    "executionInfo": {
     "elapsed": 1210,
     "status": "ok",
     "timestamp": 1602411041137,
     "user": {
      "displayName": "Yee Hong Ng",
      "photoUrl": "https://lh3.googleusercontent.com/a-/AOh14GgS0QilRQRwkflMS5mCNwfT3TmC3rDn-JQ3epH0hv8=s64",
      "userId": "04330471012124062161"
     },
     "user_tz": -480
    },
    "id": "TpGjVRV5CSJr",
    "outputId": "9fea9b3d-4b6d-4afa-92a6-b98db3e05df4"
   },
   "outputs": [],
   "source": [
    "data.columns.unique()"
   ]
  },
  {
   "cell_type": "code",
   "execution_count": null,
   "metadata": {
    "executionInfo": {
     "elapsed": 2562,
     "status": "ok",
     "timestamp": 1602411043260,
     "user": {
      "displayName": "Yee Hong Ng",
      "photoUrl": "https://lh3.googleusercontent.com/a-/AOh14GgS0QilRQRwkflMS5mCNwfT3TmC3rDn-JQ3epH0hv8=s64",
      "userId": "04330471012124062161"
     },
     "user_tz": -480
    },
    "id": "z2GTY31T_0n2"
   },
   "outputs": [],
   "source": [
    "# convert gender to categorical variable\n",
    "data['gender'] = data['gender'].astype('category')"
   ]
  },
  {
   "cell_type": "markdown",
   "metadata": {},
   "source": [
    "<font color=blue> <b> Practice 2 </b> </font>"
   ]
  },
  {
   "cell_type": "code",
   "execution_count": null,
   "metadata": {},
   "outputs": [],
   "source": [
    "# Convert variable ‘age’ into float64 \n",
    "\n",
    "\n"
   ]
  },
  {
   "cell_type": "code",
   "execution_count": null,
   "metadata": {
    "colab": {
     "base_uri": "https://localhost:8080/",
     "height": 391
    },
    "executionInfo": {
     "elapsed": 4089,
     "status": "ok",
     "timestamp": 1602411045504,
     "user": {
      "displayName": "Yee Hong Ng",
      "photoUrl": "https://lh3.googleusercontent.com/a-/AOh14GgS0QilRQRwkflMS5mCNwfT3TmC3rDn-JQ3epH0hv8=s64",
      "userId": "04330471012124062161"
     },
     "user_tz": -480
    },
    "id": "pwbLBheM_0oA",
    "outputId": "5eeeb62f-7a80-4307-9a44-aa3edfe73b6c"
   },
   "outputs": [],
   "source": [
    "data.info()"
   ]
  },
  {
   "cell_type": "markdown",
   "metadata": {
    "id": "lkh-GyfE6n8U"
   },
   "source": [
    "**Checking of null data**"
   ]
  },
  {
   "cell_type": "code",
   "execution_count": null,
   "metadata": {
    "colab": {
     "base_uri": "https://localhost:8080/",
     "height": 289
    },
    "executionInfo": {
     "elapsed": 2736,
     "status": "ok",
     "timestamp": 1602411045508,
     "user": {
      "displayName": "Yee Hong Ng",
      "photoUrl": "https://lh3.googleusercontent.com/a-/AOh14GgS0QilRQRwkflMS5mCNwfT3TmC3rDn-JQ3epH0hv8=s64",
      "userId": "04330471012124062161"
     },
     "user_tz": -480
    },
    "id": "ljF3Ekp16V75",
    "outputId": "1c6b7fbe-4d3a-4d9b-bb2d-984accfecfc5"
   },
   "outputs": [],
   "source": [
    "data.isnull().sum()"
   ]
  },
  {
   "cell_type": "markdown",
   "metadata": {
    "id": "8cOMj_-M98Zb"
   },
   "source": [
    "**Removal of null data**"
   ]
  },
  {
   "cell_type": "code",
   "execution_count": null,
   "metadata": {
    "executionInfo": {
     "elapsed": 1764,
     "status": "ok",
     "timestamp": 1602411046730,
     "user": {
      "displayName": "Yee Hong Ng",
      "photoUrl": "https://lh3.googleusercontent.com/a-/AOh14GgS0QilRQRwkflMS5mCNwfT3TmC3rDn-JQ3epH0hv8=s64",
      "userId": "04330471012124062161"
     },
     "user_tz": -480
    },
    "id": "p4vgCE1G6m-R"
   },
   "outputs": [],
   "source": [
    "data.dropna(how='any', inplace=True)"
   ]
  },
  {
   "cell_type": "markdown",
   "metadata": {
    "id": "EHW4W77fICti"
   },
   "source": [
    "Parameter: how{‘any’, ‘all’}, default ‘any’\n",
    "* ‘any’ : If any NA values are present, drop that row or column.\n",
    "* ‘all’ : If all values are NA, drop that row or column."
   ]
  },
  {
   "cell_type": "code",
   "execution_count": null,
   "metadata": {
    "colab": {
     "base_uri": "https://localhost:8080/",
     "height": 289
    },
    "executionInfo": {
     "elapsed": 623,
     "status": "ok",
     "timestamp": 1602411047493,
     "user": {
      "displayName": "Yee Hong Ng",
      "photoUrl": "https://lh3.googleusercontent.com/a-/AOh14GgS0QilRQRwkflMS5mCNwfT3TmC3rDn-JQ3epH0hv8=s64",
      "userId": "04330471012124062161"
     },
     "user_tz": -480
    },
    "id": "PM1hBSeQ7w5U",
    "outputId": "811fe9b2-8ea2-494f-c281-008b17fb82c4"
   },
   "outputs": [],
   "source": [
    "data.isnull().sum()"
   ]
  },
  {
   "cell_type": "code",
   "execution_count": null,
   "metadata": {
    "colab": {
     "base_uri": "https://localhost:8080/",
     "height": 289
    },
    "executionInfo": {
     "elapsed": 3288,
     "status": "ok",
     "timestamp": 1602411051066,
     "user": {
      "displayName": "Yee Hong Ng",
      "photoUrl": "https://lh3.googleusercontent.com/a-/AOh14GgS0QilRQRwkflMS5mCNwfT3TmC3rDn-JQ3epH0hv8=s64",
      "userId": "04330471012124062161"
     },
     "user_tz": -480
    },
    "id": "6MciL5mMICtm",
    "outputId": "ec5b74c4-c8d6-45b3-e8dc-5f0bf9d7d463"
   },
   "outputs": [],
   "source": [
    "data.notnull().sum()"
   ]
  },
  {
   "cell_type": "markdown",
   "metadata": {
    "id": "RWFSIdjh-DKs"
   },
   "source": [
    "**Removal of unnecessary columns**\n",
    "* Since there is age given, the information on dob_day,dob_year and dob_month are unnecessary. The userid is not important as well."
   ]
  },
  {
   "cell_type": "code",
   "execution_count": null,
   "metadata": {
    "executionInfo": {
     "elapsed": 2598,
     "status": "ok",
     "timestamp": 1602411053071,
     "user": {
      "displayName": "Yee Hong Ng",
      "photoUrl": "https://lh3.googleusercontent.com/a-/AOh14GgS0QilRQRwkflMS5mCNwfT3TmC3rDn-JQ3epH0hv8=s64",
      "userId": "04330471012124062161"
     },
     "user_tz": -480
    },
    "id": "tizmELF8-Z0P"
   },
   "outputs": [],
   "source": [
    "data1 = data.drop(['userid','dob_day','dob_month','dob_year'],axis = 1) "
   ]
  },
  {
   "cell_type": "markdown",
   "metadata": {
    "id": "5x8v-d6DICts"
   },
   "source": [
    "* axis = 1 indicates drop the whole column"
   ]
  },
  {
   "cell_type": "code",
   "execution_count": null,
   "metadata": {
    "colab": {
     "base_uri": "https://localhost:8080/",
     "height": 204
    },
    "executionInfo": {
     "elapsed": 2174,
     "status": "ok",
     "timestamp": 1602411055173,
     "user": {
      "displayName": "Yee Hong Ng",
      "photoUrl": "https://lh3.googleusercontent.com/a-/AOh14GgS0QilRQRwkflMS5mCNwfT3TmC3rDn-JQ3epH0hv8=s64",
      "userId": "04330471012124062161"
     },
     "user_tz": -480
    },
    "id": "PlFvy-De-5vF",
    "outputId": "6ad0a996-43ab-4a0e-d2bb-e50945ac4c1a"
   },
   "outputs": [],
   "source": [
    "data1.head()"
   ]
  },
  {
   "cell_type": "markdown",
   "metadata": {},
   "source": [
    "<font color=blue> <b> Practice 3 </b> </font>"
   ]
  },
  {
   "cell_type": "code",
   "execution_count": null,
   "metadata": {},
   "outputs": [],
   "source": [
    "# drop first row of the dataset\n",
    "\n",
    "\n",
    "# drop first 10 row of the dataset\n",
    " \n",
    "\n",
    "# drop row 20 and 22 of the dataset\n",
    "\n",
    "\n",
    "# perform head count\n"
   ]
  },
  {
   "cell_type": "markdown",
   "metadata": {},
   "source": [
    "<font color=blue> <b> Practice 4 </b> </font>"
   ]
  },
  {
   "cell_type": "code",
   "execution_count": null,
   "metadata": {},
   "outputs": [],
   "source": [
    "# drop first 10 row of the dataset\n",
    "\n"
   ]
  },
  {
   "cell_type": "markdown",
   "metadata": {
    "id": "3JDSU3lcErut"
   },
   "source": [
    "**Summary of data**\n",
    "* `.describe()`:\n",
    "* For variables that are float64 or int64, it will provide a statistical summaries of the variables, including `count`,`mean`,`std`,`min`,`25%`,`50%`,`75%` and `max`\n",
    "* For categorical variables it will provide information like `count`, `unique`,`top` and `freq`"
   ]
  },
  {
   "cell_type": "code",
   "execution_count": null,
   "metadata": {
    "colab": {
     "base_uri": "https://localhost:8080/",
     "height": 317
    },
    "executionInfo": {
     "elapsed": 2316,
     "status": "ok",
     "timestamp": 1602411056973,
     "user": {
      "displayName": "Yee Hong Ng",
      "photoUrl": "https://lh3.googleusercontent.com/a-/AOh14GgS0QilRQRwkflMS5mCNwfT3TmC3rDn-JQ3epH0hv8=s64",
      "userId": "04330471012124062161"
     },
     "user_tz": -480
    },
    "id": "e3MbNugJ_0oL",
    "outputId": "24828a91-556b-476c-c2e0-13aa285bb51c"
   },
   "outputs": [],
   "source": [
    "data1.describe()"
   ]
  },
  {
   "cell_type": "code",
   "execution_count": null,
   "metadata": {
    "colab": {
     "base_uri": "https://localhost:8080/",
     "height": 102
    },
    "executionInfo": {
     "elapsed": 1997,
     "status": "ok",
     "timestamp": 1602411057457,
     "user": {
      "displayName": "Yee Hong Ng",
      "photoUrl": "https://lh3.googleusercontent.com/a-/AOh14GgS0QilRQRwkflMS5mCNwfT3TmC3rDn-JQ3epH0hv8=s64",
      "userId": "04330471012124062161"
     },
     "user_tz": -480
    },
    "id": "AVPyDfbmCdcq",
    "outputId": "70b576ab-5cb5-41f5-ee03-a3233837f1d1"
   },
   "outputs": [],
   "source": [
    "data1['gender'].describe()"
   ]
  },
  {
   "cell_type": "markdown",
   "metadata": {
    "id": "NGdxwAp0ICt1"
   },
   "source": [
    "* `count`: total no. of data points for this category variable  \n",
    "* `unique`: no. of different levels for this category variable (E.g. 2 for male & female)  \n",
    "* `top`: level with the maximum occurance  \n",
    "* `freq`: no. of times of occurance of the 'top' level"
   ]
  },
  {
   "cell_type": "code",
   "execution_count": null,
   "metadata": {
    "colab": {
     "base_uri": "https://localhost:8080/",
     "height": 68
    },
    "executionInfo": {
     "elapsed": 2224,
     "status": "ok",
     "timestamp": 1602411058921,
     "user": {
      "displayName": "Yee Hong Ng",
      "photoUrl": "https://lh3.googleusercontent.com/a-/AOh14GgS0QilRQRwkflMS5mCNwfT3TmC3rDn-JQ3epH0hv8=s64",
      "userId": "04330471012124062161"
     },
     "user_tz": -480
    },
    "id": "wuswQjgZ_0oW",
    "outputId": "c707aa29-289d-40ba-e4bb-2071f6a85a0c"
   },
   "outputs": [],
   "source": [
    "data1['gender'].value_counts()"
   ]
  },
  {
   "cell_type": "markdown",
   "metadata": {
    "id": "DisqKPG7Clzr"
   },
   "source": [
    "## Data Exploration and Manipulation\n",
    "* Use of conditional filter\n",
    "* Adding columns to existing DataFrame\n",
    "* Joining dataframes\n",
    "* Groupby\n"
   ]
  },
  {
   "cell_type": "markdown",
   "metadata": {
    "id": "zZlPVhQ2CzZP"
   },
   "source": [
    "**Conditional filter** : filter by age\n",
    "* Teenagers: <18\n",
    "* Young Adults: Between 18 to 25\n",
    "* Adults: Between 26 to 35\n",
    "* Middle Aged Adults: Between 36 to 50\n",
    "* Older Adults: Between 51 to 60\n",
    "* Senior citizen: Above 60 "
   ]
  },
  {
   "cell_type": "code",
   "execution_count": null,
   "metadata": {
    "executionInfo": {
     "elapsed": 689,
     "status": "ok",
     "timestamp": 1602411061330,
     "user": {
      "displayName": "Yee Hong Ng",
      "photoUrl": "https://lh3.googleusercontent.com/a-/AOh14GgS0QilRQRwkflMS5mCNwfT3TmC3rDn-JQ3epH0hv8=s64",
      "userId": "04330471012124062161"
     },
     "user_tz": -480
    },
    "id": "-kf3I-UVECTa"
   },
   "outputs": [],
   "source": [
    "# creating filters conditions\n",
    "teenager = (data1['age'] <18)\n",
    "young_adult = (data1['age']>= 18) & (data1['age']<= 25)\n",
    "adult = (data1['age']>= 26) & (data1['age']<= 35)\n",
    "middle_age = (data1['age']>= 36) & (data1['age']<= 50)\n",
    "older_adult = (data1['age']>= 51) & (data1['age']<= 60)\n",
    "senior_citizen = (data1['age'] >60)"
   ]
  },
  {
   "cell_type": "markdown",
   "metadata": {
    "id": "hvF9KumoICt7"
   },
   "source": [
    "* & : AND\n",
    "* | : OR\n",
    "* == : equal to \n",
    "* != : not equal to \n",
    "\n",
    "Additional information: https://www.w3schools.com/python/python_operators.asp"
   ]
  },
  {
   "cell_type": "code",
   "execution_count": null,
   "metadata": {
    "executionInfo": {
     "elapsed": 654,
     "status": "ok",
     "timestamp": 1602411063136,
     "user": {
      "displayName": "Yee Hong Ng",
      "photoUrl": "https://lh3.googleusercontent.com/a-/AOh14GgS0QilRQRwkflMS5mCNwfT3TmC3rDn-JQ3epH0hv8=s64",
      "userId": "04330471012124062161"
     },
     "user_tz": -480
    },
    "id": "SkrOuQtbEmEF"
   },
   "outputs": [],
   "source": [
    "data2 = pd.DataFrame(data1.loc[teenager])\n",
    "data3 = pd.DataFrame(data1.loc[young_adult])\n",
    "data4 = pd.DataFrame(data1.loc[adult])\n",
    "data5 = pd.DataFrame(data1.loc[middle_age])\n",
    "data6 = pd.DataFrame(data1.loc[older_adult])\n",
    "data7 = pd.DataFrame(data1.loc[senior_citizen])"
   ]
  },
  {
   "cell_type": "markdown",
   "metadata": {},
   "source": [
    "<font color=blue> <b> Practice 5 </b> </font>"
   ]
  },
  {
   "cell_type": "code",
   "execution_count": null,
   "metadata": {},
   "outputs": [],
   "source": [
    "# create group1: age not equal to 18\n",
    "group1 = \n",
    "group1\n",
    "\n",
    "# create a new dataframe for this group \n",
    "df1 = \n",
    "df1"
   ]
  },
  {
   "cell_type": "code",
   "execution_count": null,
   "metadata": {},
   "outputs": [],
   "source": [
    "# Alternatively\n",
    "# to create a group that only contains female user\n",
    "df2 = data1[data1.gender != 'male']\n",
    "df2"
   ]
  },
  {
   "cell_type": "markdown",
   "metadata": {
    "id": "zsKlbmusIfXs"
   },
   "source": [
    "**Adding new column 'age group'**\n"
   ]
  },
  {
   "cell_type": "code",
   "execution_count": null,
   "metadata": {
    "executionInfo": {
     "elapsed": 4137,
     "status": "ok",
     "timestamp": 1602411070403,
     "user": {
      "displayName": "Yee Hong Ng",
      "photoUrl": "https://lh3.googleusercontent.com/a-/AOh14GgS0QilRQRwkflMS5mCNwfT3TmC3rDn-JQ3epH0hv8=s64",
      "userId": "04330471012124062161"
     },
     "user_tz": -480
    },
    "id": "JOgwHh74HJsA"
   },
   "outputs": [],
   "source": [
    "data2.insert(1, \"age group\", 'teenager')\n",
    "data3.insert(1, \"age group\", 'young adult')\n",
    "data4.insert(1, \"age group\", 'adult')\n",
    "data5.insert(1, \"age group\", 'middle aged')\n",
    "data6.insert(1, \"age group\", 'older adult')\n",
    "data7.insert(1, \"age group\", 'senior citizen')"
   ]
  },
  {
   "cell_type": "code",
   "execution_count": null,
   "metadata": {
    "colab": {
     "base_uri": "https://localhost:8080/",
     "height": 204
    },
    "executionInfo": {
     "elapsed": 3507,
     "status": "ok",
     "timestamp": 1602411070407,
     "user": {
      "displayName": "Yee Hong Ng",
      "photoUrl": "https://lh3.googleusercontent.com/a-/AOh14GgS0QilRQRwkflMS5mCNwfT3TmC3rDn-JQ3epH0hv8=s64",
      "userId": "04330471012124062161"
     },
     "user_tz": -480
    },
    "id": "NbZQzGLjKEpw",
    "outputId": "d9f99280-439c-41c7-ea63-9da6635c2d5c"
   },
   "outputs": [],
   "source": [
    "data2.head()"
   ]
  },
  {
   "cell_type": "markdown",
   "metadata": {
    "id": "L_MkSDPcKIyt"
   },
   "source": [
    "### Merging dataframes together\n"
   ]
  },
  {
   "cell_type": "code",
   "execution_count": null,
   "metadata": {
    "colab": {
     "base_uri": "https://localhost:8080/",
     "height": 541
    },
    "executionInfo": {
     "elapsed": 2145,
     "status": "ok",
     "timestamp": 1602411070410,
     "user": {
      "displayName": "Yee Hong Ng",
      "photoUrl": "https://lh3.googleusercontent.com/a-/AOh14GgS0QilRQRwkflMS5mCNwfT3TmC3rDn-JQ3epH0hv8=s64",
      "userId": "04330471012124062161"
     },
     "user_tz": -480
    },
    "id": "-xXZahIeI5RA",
    "outputId": "084aaebd-97d3-4499-9d3f-a0fc964bf582"
   },
   "outputs": [],
   "source": [
    "data_Final = data2.append([data3,data4,data5,data6,data7])\n",
    "data_Final"
   ]
  },
  {
   "cell_type": "markdown",
   "metadata": {
    "id": "M1KOiRNYA9um"
   },
   "source": [
    "**Merging by column**\n",
    "* To demo merging by column `'dob_year'`  from original data"
   ]
  },
  {
   "cell_type": "code",
   "execution_count": null,
   "metadata": {
    "colab": {
     "base_uri": "https://localhost:8080/",
     "height": 524
    },
    "executionInfo": {
     "elapsed": 2305,
     "status": "ok",
     "timestamp": 1602411072121,
     "user": {
      "displayName": "Yee Hong Ng",
      "photoUrl": "https://lh3.googleusercontent.com/a-/AOh14GgS0QilRQRwkflMS5mCNwfT3TmC3rDn-JQ3epH0hv8=s64",
      "userId": "04330471012124062161"
     },
     "user_tz": -480
    },
    "id": "Uo38Kk_5AkSR",
    "outputId": "006e0e5b-662f-4b0b-d4ad-dae2e01c77c6"
   },
   "outputs": [],
   "source": [
    "x = pd.DataFrame(data['dob_year'])\n",
    "result = pd.concat([data_Final, x], axis=1)\n",
    "result"
   ]
  },
  {
   "cell_type": "markdown",
   "metadata": {
    "id": "zxywKQDM2N7I"
   },
   "source": [
    "### Groupby age group and gender to find statistical summary"
   ]
  },
  {
   "cell_type": "code",
   "execution_count": null,
   "metadata": {
    "colab": {
     "base_uri": "https://localhost:8080/",
     "height": 162
    },
    "executionInfo": {
     "elapsed": 2909,
     "status": "ok",
     "timestamp": 1602411074131,
     "user": {
      "displayName": "Yee Hong Ng",
      "photoUrl": "https://lh3.googleusercontent.com/a-/AOh14GgS0QilRQRwkflMS5mCNwfT3TmC3rDn-JQ3epH0hv8=s64",
      "userId": "04330471012124062161"
     },
     "user_tz": -480
    },
    "id": "hknwZpP-3Epu",
    "outputId": "1c34c695-f07d-4c38-81bc-7e62451dcd7e"
   },
   "outputs": [],
   "source": [
    "data_Final.groupby(by='gender').std()"
   ]
  },
  {
   "cell_type": "code",
   "execution_count": null,
   "metadata": {
    "colab": {
     "base_uri": "https://localhost:8080/",
     "height": 142
    },
    "executionInfo": {
     "elapsed": 2251,
     "status": "ok",
     "timestamp": 1602411074133,
     "user": {
      "displayName": "Yee Hong Ng",
      "photoUrl": "https://lh3.googleusercontent.com/a-/AOh14GgS0QilRQRwkflMS5mCNwfT3TmC3rDn-JQ3epH0hv8=s64",
      "userId": "04330471012124062161"
     },
     "user_tz": -480
    },
    "id": "hoI0larkCfAu",
    "outputId": "f1a1f24d-ab52-44bf-a546-b3afd4266dd8"
   },
   "outputs": [],
   "source": [
    "data_Final.groupby(by='gender').median()"
   ]
  },
  {
   "cell_type": "code",
   "execution_count": null,
   "metadata": {
    "colab": {
     "base_uri": "https://localhost:8080/",
     "height": 142
    },
    "executionInfo": {
     "elapsed": 1993,
     "status": "ok",
     "timestamp": 1602411074542,
     "user": {
      "displayName": "Yee Hong Ng",
      "photoUrl": "https://lh3.googleusercontent.com/a-/AOh14GgS0QilRQRwkflMS5mCNwfT3TmC3rDn-JQ3epH0hv8=s64",
      "userId": "04330471012124062161"
     },
     "user_tz": -480
    },
    "id": "oimtHtMGClth",
    "outputId": "458ec558-a12d-4924-b109-2023603610dc"
   },
   "outputs": [],
   "source": [
    "data_Final.groupby(by='gender').mean()"
   ]
  },
  {
   "cell_type": "code",
   "execution_count": null,
   "metadata": {
    "colab": {
     "base_uri": "https://localhost:8080/",
     "height": 193
    },
    "executionInfo": {
     "elapsed": 2983,
     "status": "ok",
     "timestamp": 1602411076237,
     "user": {
      "displayName": "Yee Hong Ng",
      "photoUrl": "https://lh3.googleusercontent.com/a-/AOh14GgS0QilRQRwkflMS5mCNwfT3TmC3rDn-JQ3epH0hv8=s64",
      "userId": "04330471012124062161"
     },
     "user_tz": -480
    },
    "id": "5f4KzNOd2rtI",
    "outputId": "3d6819b3-d233-4f02-b6ce-90ebedb6115f"
   },
   "outputs": [],
   "source": [
    "data_Final.groupby(by='gender').describe()"
   ]
  },
  {
   "cell_type": "markdown",
   "metadata": {
    "id": "6wv6OlQ7_0oi"
   },
   "source": [
    "# Data visualisation\n",
    "**Python libraries for data visualisation: matplotlib.pyplot & seaborn**  \n",
    "**1. Data visualisation for single variable**  \n",
    "**2. Data visualisation for two or multiple variables**"
   ]
  },
  {
   "cell_type": "markdown",
   "metadata": {},
   "source": [
    "## Data visualisation for single variable\n",
    "\n",
    "**A. Countplot (For categorical variables)**"
   ]
  },
  {
   "cell_type": "code",
   "execution_count": null,
   "metadata": {
    "colab": {
     "base_uri": "https://localhost:8080/",
     "height": 334
    },
    "executionInfo": {
     "elapsed": 3498,
     "status": "ok",
     "timestamp": 1602411088867,
     "user": {
      "displayName": "Yee Hong Ng",
      "photoUrl": "https://lh3.googleusercontent.com/a-/AOh14GgS0QilRQRwkflMS5mCNwfT3TmC3rDn-JQ3epH0hv8=s64",
      "userId": "04330471012124062161"
     },
     "user_tz": -480
    },
    "id": "UUoAZK-ILaoz",
    "outputId": "2c31fe0e-4ee8-4b3d-8ba9-a9a61724079b"
   },
   "outputs": [],
   "source": [
    "# Count plot using seaborn\n",
    "f, axes = plt.subplots(1, 1, figsize=(6, 6))\n",
    "count = sb.countplot(x=\"age group\", data=data_Final )\n",
    "count.set(xlabel='Age group', ylabel='Number of users')\n",
    "count.set_xticklabels(count.get_xticklabels(), rotation=45, horizontalalignment='right')\n",
    "plt.show()"
   ]
  },
  {
   "cell_type": "code",
   "execution_count": null,
   "metadata": {
    "colab": {
     "base_uri": "https://localhost:8080/",
     "height": 334
    },
    "executionInfo": {
     "elapsed": 3599,
     "status": "ok",
     "timestamp": 1602411088865,
     "user": {
      "displayName": "Yee Hong Ng",
      "photoUrl": "https://lh3.googleusercontent.com/a-/AOh14GgS0QilRQRwkflMS5mCNwfT3TmC3rDn-JQ3epH0hv8=s64",
      "userId": "04330471012124062161"
     },
     "user_tz": -480
    },
    "id": "7bCVUCL_OpCr",
    "outputId": "bbc44c39-7750-47de-f898-28b803ab2553",
    "scrolled": false
   },
   "outputs": [],
   "source": [
    "# Countplot using matplotlib\n",
    "f, axes = plt.subplots(1, 1, figsize=(6, 6))\n",
    "chart = data_Final['age group'].value_counts().plot(kind='bar')\n",
    "plt.ylabel('Number of users')\n",
    "plt.xlabel('Age group')\n",
    "chart.set_xticklabels(chart.get_xticklabels(), rotation=45, horizontalalignment='right')\n",
    "plt.show()"
   ]
  },
  {
   "cell_type": "markdown",
   "metadata": {
    "id": "o3ZkqWVt_0ok"
   },
   "source": [
    "**B. Histogram (For numerical variables)**"
   ]
  },
  {
   "cell_type": "code",
   "execution_count": null,
   "metadata": {
    "colab": {
     "base_uri": "https://localhost:8080/",
     "height": 301
    },
    "executionInfo": {
     "elapsed": 2696,
     "status": "ok",
     "timestamp": 1602411078068,
     "user": {
      "displayName": "Yee Hong Ng",
      "photoUrl": "https://lh3.googleusercontent.com/a-/AOh14GgS0QilRQRwkflMS5mCNwfT3TmC3rDn-JQ3epH0hv8=s64",
      "userId": "04330471012124062161"
     },
     "user_tz": -480
    },
    "id": "BferF6vJ_0om",
    "outputId": "67f4e64c-ced7-4cdb-9cdc-02ca542e8033"
   },
   "outputs": [],
   "source": [
    "# Histogram\n",
    "f, axes = plt.subplots(1, 1, figsize=(6, 6))\n",
    "plt.hist(data_Final['age'])\n",
    "plt.ylabel('Number of facebook user')\n",
    "plt.xlabel('Age of facebook user')\n",
    "plt.title('No. of user versus age')\n",
    "plt.show()"
   ]
  },
  {
   "cell_type": "markdown",
   "metadata": {},
   "source": [
    "**C. Boxplot**"
   ]
  },
  {
   "cell_type": "code",
   "execution_count": null,
   "metadata": {
    "colab": {
     "base_uri": "https://localhost:8080/",
     "height": 356
    },
    "executionInfo": {
     "elapsed": 1902,
     "status": "ok",
     "timestamp": 1602411078080,
     "user": {
      "displayName": "Yee Hong Ng",
      "photoUrl": "https://lh3.googleusercontent.com/a-/AOh14GgS0QilRQRwkflMS5mCNwfT3TmC3rDn-JQ3epH0hv8=s64",
      "userId": "04330471012124062161"
     },
     "user_tz": -480
    },
    "id": "R5CvY22M_0pA",
    "outputId": "1c78e95a-bff3-45dc-80ed-46d3d0c66392"
   },
   "outputs": [],
   "source": [
    "# Boxplot\n",
    "f, axes = plt.subplots(1, 1, figsize=(6, 4))\n",
    "sb.boxplot(data_Final['age'], orient = \"h\", color = 'r')"
   ]
  },
  {
   "cell_type": "markdown",
   "metadata": {},
   "source": [
    "**D. Distribution plot**"
   ]
  },
  {
   "cell_type": "code",
   "execution_count": null,
   "metadata": {
    "colab": {
     "base_uri": "https://localhost:8080/",
     "height": 356
    },
    "executionInfo": {
     "elapsed": 4086,
     "status": "ok",
     "timestamp": 1602411082480,
     "user": {
      "displayName": "Yee Hong Ng",
      "photoUrl": "https://lh3.googleusercontent.com/a-/AOh14GgS0QilRQRwkflMS5mCNwfT3TmC3rDn-JQ3epH0hv8=s64",
      "userId": "04330471012124062161"
     },
     "user_tz": -480
    },
    "id": "tm18tgy5_0pK",
    "outputId": "935969d8-f93a-4857-dc96-2fb97dbca4dc"
   },
   "outputs": [],
   "source": [
    "# Distribution plot\n",
    "f, axes = plt.subplots(1, 1, figsize=(6, 6))\n",
    "sb.distplot(data_Final['age'], color = 'g')"
   ]
  },
  {
   "cell_type": "markdown",
   "metadata": {},
   "source": [
    "**E. Violin plot**"
   ]
  },
  {
   "cell_type": "code",
   "execution_count": null,
   "metadata": {
    "colab": {
     "base_uri": "https://localhost:8080/",
     "height": 356
    },
    "executionInfo": {
     "elapsed": 5568,
     "status": "ok",
     "timestamp": 1602411088863,
     "user": {
      "displayName": "Yee Hong Ng",
      "photoUrl": "https://lh3.googleusercontent.com/a-/AOh14GgS0QilRQRwkflMS5mCNwfT3TmC3rDn-JQ3epH0hv8=s64",
      "userId": "04330471012124062161"
     },
     "user_tz": -480
    },
    "id": "hPTftYlG_0pS",
    "outputId": "1d346031-a011-4f2f-c5fd-3ce4d5a0e3bc"
   },
   "outputs": [],
   "source": [
    "# Violin plot\n",
    "f, axes = plt.subplots(1, 1, figsize=(6, 6))\n",
    "sb.violinplot(data_Final['age'], color = 'b')"
   ]
  },
  {
   "cell_type": "markdown",
   "metadata": {},
   "source": [
    "<font color=blue> <b> Practice 6 </b> </font>   \n",
    "Create a boxplot for the variable `tenure` by changing the size (adjust 'figsize' at canvas) and color.\n",
    "\n",
    "Color code:\n",
    "Black = 'k' ; \n",
    "Blue = 'b' ; \n",
    "Red = 'r' ; \n",
    "Green = 'g' ; \n",
    "Yellow = 'y' ; \n",
    "Cyan = 'c' ; \n",
    "Magenta = 'm'"
   ]
  },
  {
   "cell_type": "code",
   "execution_count": null,
   "metadata": {},
   "outputs": [],
   "source": [
    "\n",
    "\n"
   ]
  },
  {
   "cell_type": "markdown",
   "metadata": {},
   "source": [
    "## Data visualisation for two variables\n",
    "**Between 2 numerical variables**  \n",
    "**A. Scatterplot**"
   ]
  },
  {
   "cell_type": "code",
   "execution_count": null,
   "metadata": {},
   "outputs": [],
   "source": [
    "# Scatterplot\n",
    "f, axes = plt.subplots(1, 1, figsize=(8, 8))\n",
    "sb.scatterplot(data=data_Final, x='friendships_initiated', y='friend_count')"
   ]
  },
  {
   "cell_type": "markdown",
   "metadata": {},
   "source": [
    "**B. Jointplot**"
   ]
  },
  {
   "cell_type": "code",
   "execution_count": null,
   "metadata": {},
   "outputs": [],
   "source": [
    "sb.jointplot(data=data_Final, x='friendships_initiated', y='friend_count', height=8)"
   ]
  },
  {
   "cell_type": "markdown",
   "metadata": {},
   "source": [
    "**Between a categorical variable and a numerical variable**  \n",
    "**C. Catplot**"
   ]
  },
  {
   "cell_type": "code",
   "execution_count": null,
   "metadata": {},
   "outputs": [],
   "source": [
    "sb.catplot(x = 'age group', y = 'tenure' , data = data_Final, kind = \"violin\", height = 8)"
   ]
  },
  {
   "cell_type": "markdown",
   "metadata": {},
   "source": [
    "<font color=blue> <b> Practice 7 </b> </font>   \n",
    "Create a catplot between `gender` and `tenure` by changing the attribute 'kind' to 'box' and see the difference."
   ]
  },
  {
   "cell_type": "code",
   "execution_count": null,
   "metadata": {},
   "outputs": [],
   "source": [
    "\n",
    "\n",
    "\n"
   ]
  },
  {
   "cell_type": "markdown",
   "metadata": {
    "id": "Yf8FGqtXeGFu"
   },
   "source": [
    "### Data Visualisation (For multiple variables)"
   ]
  },
  {
   "cell_type": "code",
   "execution_count": null,
   "metadata": {},
   "outputs": [],
   "source": [
    "data_Final_multi = pd.DataFrame(data_Final[['age', 'tenure', 'friend_count', 'friendships_initiated', 'likes','likes_received']])\n",
    "data_Final_multi.head()"
   ]
  },
  {
   "cell_type": "markdown",
   "metadata": {},
   "source": [
    "**A. Heatmap**"
   ]
  },
  {
   "cell_type": "code",
   "execution_count": null,
   "metadata": {
    "colab": {
     "base_uri": "https://localhost:8080/",
     "height": 726
    },
    "executionInfo": {
     "elapsed": 3339,
     "status": "ok",
     "timestamp": 1602411097692,
     "user": {
      "displayName": "Yee Hong Ng",
      "photoUrl": "https://lh3.googleusercontent.com/a-/AOh14GgS0QilRQRwkflMS5mCNwfT3TmC3rDn-JQ3epH0hv8=s64",
      "userId": "04330471012124062161"
     },
     "user_tz": -480
    },
    "id": "sr9eDjOB_0pu",
    "outputId": "c1f3649f-8a18-41a5-b4c2-b7bdbd33e3a7"
   },
   "outputs": [],
   "source": [
    "f, axes = plt.subplots(1, 1, figsize=(20, 10))\n",
    "\n",
    "sb.heatmap(data_Final_multi.corr(), vmin = -1, vmax = 1, linewidths = 1,\n",
    "           annot = True, fmt = \".2f\", annot_kws = {\"size\": 18}, cmap = \"RdBu\")\n",
    "axes.set_ylim(data_Final_multi.shape[1], 0) "
   ]
  },
  {
   "cell_type": "markdown",
   "metadata": {
    "id": "eEsHK0c0eQuH"
   },
   "source": [
    "This overview heatmap allows us to see the the correlation between all the variables that are in the dataset. \n",
    "* Positive correlation means when one variable increases, the other will increase as well\n",
    "* Negative correlation means when one variable increases, the other will decrease"
   ]
  },
  {
   "cell_type": "markdown",
   "metadata": {},
   "source": [
    "**B. Pairplot**"
   ]
  },
  {
   "cell_type": "code",
   "execution_count": null,
   "metadata": {},
   "outputs": [],
   "source": [
    "#sb.pairplot(data = data_Final_multi)"
   ]
  },
  {
   "cell_type": "markdown",
   "metadata": {},
   "source": [
    "## Additional Information"
   ]
  },
  {
   "cell_type": "markdown",
   "metadata": {},
   "source": [
    "Note: In order to perform following, please make sure you have updated your seaborn to version 0.11.0\n",
    "You can run the command below to update your seaborn"
   ]
  },
  {
   "cell_type": "code",
   "execution_count": null,
   "metadata": {},
   "outputs": [],
   "source": [
    "pip install seaborn==0.11.0"
   ]
  },
  {
   "cell_type": "markdown",
   "metadata": {
    "id": "2oQ9ed0FerT7"
   },
   "source": [
    "### 1. Age vs Tenure"
   ]
  },
  {
   "cell_type": "code",
   "execution_count": null,
   "metadata": {
    "colab": {
     "base_uri": "https://localhost:8080/",
     "height": 237
    },
    "executionInfo": {
     "elapsed": 5926,
     "status": "ok",
     "timestamp": 1602412444899,
     "user": {
      "displayName": "Yee Hong Ng",
      "photoUrl": "https://lh3.googleusercontent.com/a-/AOh14GgS0QilRQRwkflMS5mCNwfT3TmC3rDn-JQ3epH0hv8=s64",
      "userId": "04330471012124062161"
     },
     "user_tz": -480
    },
    "id": "1dqc03ILFdfi",
    "outputId": "6f4a356d-5e35-4841-8658-a6738db461a0"
   },
   "outputs": [],
   "source": [
    "# Combine a distribution plot and a FacetGrid \n",
    "sb.displot(data_Final, x='tenure', col=\"age group\", multiple=\"dodge\")"
   ]
  },
  {
   "cell_type": "code",
   "execution_count": null,
   "metadata": {
    "colab": {
     "base_uri": "https://localhost:8080/",
     "height": 386
    },
    "executionInfo": {
     "elapsed": 9077,
     "status": "ok",
     "timestamp": 1602412448752,
     "user": {
      "displayName": "Yee Hong Ng",
      "photoUrl": "https://lh3.googleusercontent.com/a-/AOh14GgS0QilRQRwkflMS5mCNwfT3TmC3rDn-JQ3epH0hv8=s64",
      "userId": "04330471012124062161"
     },
     "user_tz": -480
    },
    "id": "kSLrGgJTLW6m",
    "outputId": "e73d0bdd-c779-46d1-8e77-f968dee670f9"
   },
   "outputs": [],
   "source": [
    "sb.displot(data_Final, x='tenure', hue='age group', multiple='stack')"
   ]
  },
  {
   "cell_type": "code",
   "execution_count": null,
   "metadata": {
    "colab": {
     "base_uri": "https://localhost:8080/",
     "height": 386
    },
    "executionInfo": {
     "elapsed": 6414,
     "status": "ok",
     "timestamp": 1602412449296,
     "user": {
      "displayName": "Yee Hong Ng",
      "photoUrl": "https://lh3.googleusercontent.com/a-/AOh14GgS0QilRQRwkflMS5mCNwfT3TmC3rDn-JQ3epH0hv8=s64",
      "userId": "04330471012124062161"
     },
     "user_tz": -480
    },
    "id": "KjL6GuhiI3rz",
    "outputId": "1a9ea603-b303-44d4-c9f2-7be57a07bd32"
   },
   "outputs": [],
   "source": [
    "sb.displot(data_Final, x='tenure', hue='age group', element='poly')"
   ]
  },
  {
   "cell_type": "code",
   "execution_count": null,
   "metadata": {
    "colab": {
     "base_uri": "https://localhost:8080/",
     "height": 386
    },
    "executionInfo": {
     "elapsed": 7470,
     "status": "ok",
     "timestamp": 1602412451375,
     "user": {
      "displayName": "Yee Hong Ng",
      "photoUrl": "https://lh3.googleusercontent.com/a-/AOh14GgS0QilRQRwkflMS5mCNwfT3TmC3rDn-JQ3epH0hv8=s64",
      "userId": "04330471012124062161"
     },
     "user_tz": -480
    },
    "id": "aefCzP7fIYkn",
    "outputId": "67d7a698-c7d3-4629-badd-539040d3d365"
   },
   "outputs": [],
   "source": [
    "sb.displot(data_Final, x='tenure', col=\"gender\", multiple=\"dodge\")"
   ]
  },
  {
   "cell_type": "code",
   "execution_count": null,
   "metadata": {
    "executionInfo": {
     "elapsed": 6604,
     "status": "ok",
     "timestamp": 1602412451380,
     "user": {
      "displayName": "Yee Hong Ng",
      "photoUrl": "https://lh3.googleusercontent.com/a-/AOh14GgS0QilRQRwkflMS5mCNwfT3TmC3rDn-JQ3epH0hv8=s64",
      "userId": "04330471012124062161"
     },
     "user_tz": -480
    },
    "id": "sucFc2XFeNR1"
   },
   "outputs": [],
   "source": [
    "age_tenure=pd.DataFrame(data_Final[['age','tenure']])"
   ]
  },
  {
   "cell_type": "markdown",
   "metadata": {
    "id": "4AqKvd3YeyqZ"
   },
   "source": [
    "To extract age and tenure from the data set"
   ]
  },
  {
   "cell_type": "code",
   "execution_count": null,
   "metadata": {
    "colab": {
     "base_uri": "https://localhost:8080/",
     "height": 1000
    },
    "executionInfo": {
     "elapsed": 3081,
     "status": "ok",
     "timestamp": 1602412458239,
     "user": {
      "displayName": "Yee Hong Ng",
      "photoUrl": "https://lh3.googleusercontent.com/a-/AOh14GgS0QilRQRwkflMS5mCNwfT3TmC3rDn-JQ3epH0hv8=s64",
      "userId": "04330471012124062161"
     },
     "user_tz": -480
    },
    "id": "cmc88AmGeO2Y",
    "outputId": "98206a85-6e1f-4c5a-eeec-40b4c495a16c"
   },
   "outputs": [],
   "source": [
    "sb.catplot(y = 'age', data = age_tenure, kind = \"count\", height = 20)"
   ]
  },
  {
   "cell_type": "markdown",
   "metadata": {
    "id": "xCYrOS4we9c1"
   },
   "source": [
    "From the catplot, we are able to the there are 2 distint group of user ranging from 13-30 years old and 40-70 years old."
   ]
  },
  {
   "cell_type": "code",
   "execution_count": null,
   "metadata": {
    "executionInfo": {
     "elapsed": 849,
     "status": "ok",
     "timestamp": 1602412550696,
     "user": {
      "displayName": "Yee Hong Ng",
      "photoUrl": "https://lh3.googleusercontent.com/a-/AOh14GgS0QilRQRwkflMS5mCNwfT3TmC3rDn-JQ3epH0hv8=s64",
      "userId": "04330471012124062161"
     },
     "user_tz": -480
    },
    "id": "a_jk741De8G4"
   },
   "outputs": [],
   "source": [
    "age_tenure1 = age_tenure[age_tenure['age'] < 30 ]"
   ]
  },
  {
   "cell_type": "code",
   "execution_count": null,
   "metadata": {
    "colab": {
     "base_uri": "https://localhost:8080/",
     "height": 519
    },
    "executionInfo": {
     "elapsed": 1668,
     "status": "ok",
     "timestamp": 1602412559400,
     "user": {
      "displayName": "Yee Hong Ng",
      "photoUrl": "https://lh3.googleusercontent.com/a-/AOh14GgS0QilRQRwkflMS5mCNwfT3TmC3rDn-JQ3epH0hv8=s64",
      "userId": "04330471012124062161"
     },
     "user_tz": -480
    },
    "id": "3xrN7BYcfGgp",
    "outputId": "a4492194-cb13-4070-b53b-845e5ee7118b"
   },
   "outputs": [],
   "source": [
    "f, axes = plt.subplots(1, 1, figsize=(16, 8))\n",
    "sb.boxplot(x = 'age', y = 'tenure', data = age_tenure1)"
   ]
  },
  {
   "cell_type": "code",
   "execution_count": null,
   "metadata": {
    "executionInfo": {
     "elapsed": 669,
     "status": "ok",
     "timestamp": 1602412560553,
     "user": {
      "displayName": "Yee Hong Ng",
      "photoUrl": "https://lh3.googleusercontent.com/a-/AOh14GgS0QilRQRwkflMS5mCNwfT3TmC3rDn-JQ3epH0hv8=s64",
      "userId": "04330471012124062161"
     },
     "user_tz": -480
    },
    "id": "VigfXOrMfIR2"
   },
   "outputs": [],
   "source": [
    "age_tenure2 = age_tenure[age_tenure['age'].between(39, 71, inclusive=False)]"
   ]
  },
  {
   "cell_type": "code",
   "execution_count": null,
   "metadata": {
    "colab": {
     "base_uri": "https://localhost:8080/",
     "height": 519
    },
    "executionInfo": {
     "elapsed": 1723,
     "status": "ok",
     "timestamp": 1602412562690,
     "user": {
      "displayName": "Yee Hong Ng",
      "photoUrl": "https://lh3.googleusercontent.com/a-/AOh14GgS0QilRQRwkflMS5mCNwfT3TmC3rDn-JQ3epH0hv8=s64",
      "userId": "04330471012124062161"
     },
     "user_tz": -480
    },
    "id": "VF5s4G5wfM71",
    "outputId": "adad694b-e7bf-40ca-cd70-85887a3df3a1"
   },
   "outputs": [],
   "source": [
    "f, axes = plt.subplots(1, 1, figsize=(16, 8))\n",
    "sb.boxplot(x = 'age', y = 'tenure', data = age_tenure2)"
   ]
  },
  {
   "cell_type": "markdown",
   "metadata": {
    "id": "MPVrWgDactEk"
   },
   "source": [
    "### 2. www_like & mobile_likes vs total likes"
   ]
  },
  {
   "cell_type": "code",
   "execution_count": null,
   "metadata": {
    "colab": {
     "base_uri": "https://localhost:8080/",
     "height": 204
    },
    "executionInfo": {
     "elapsed": 731,
     "status": "ok",
     "timestamp": 1602412564426,
     "user": {
      "displayName": "Yee Hong Ng",
      "photoUrl": "https://lh3.googleusercontent.com/a-/AOh14GgS0QilRQRwkflMS5mCNwfT3TmC3rDn-JQ3epH0hv8=s64",
      "userId": "04330471012124062161"
     },
     "user_tz": -480
    },
    "id": "d4GyELaIctEk",
    "outputId": "7a89a715-6211-481b-ad55-db2e0498cbb5"
   },
   "outputs": [],
   "source": [
    "likesData = pd.DataFrame(data[['mobile_likes', 'www_likes', 'mobile_likes_received', 'www_likes_received', 'likes']])\n",
    "likesData.head()"
   ]
  },
  {
   "cell_type": "code",
   "execution_count": null,
   "metadata": {
    "colab": {
     "base_uri": "https://localhost:8080/",
     "height": 502
    },
    "executionInfo": {
     "elapsed": 1442,
     "status": "ok",
     "timestamp": 1602412568309,
     "user": {
      "displayName": "Yee Hong Ng",
      "photoUrl": "https://lh3.googleusercontent.com/a-/AOh14GgS0QilRQRwkflMS5mCNwfT3TmC3rDn-JQ3epH0hv8=s64",
      "userId": "04330471012124062161"
     },
     "user_tz": -480
    },
    "id": "nFesTTqyctEn",
    "outputId": "0fdd3f76-0a17-45ab-cf97-fded987c2d31"
   },
   "outputs": [],
   "source": [
    "f, axes = plt.subplots(1, 1, figsize=(16,8))\n",
    "plt.scatter(x = \"mobile_likes\", y = \"likes\", data = likesData)"
   ]
  },
  {
   "cell_type": "code",
   "execution_count": null,
   "metadata": {
    "colab": {
     "base_uri": "https://localhost:8080/",
     "height": 502
    },
    "executionInfo": {
     "elapsed": 1481,
     "status": "ok",
     "timestamp": 1602412618617,
     "user": {
      "displayName": "Yee Hong Ng",
      "photoUrl": "https://lh3.googleusercontent.com/a-/AOh14GgS0QilRQRwkflMS5mCNwfT3TmC3rDn-JQ3epH0hv8=s64",
      "userId": "04330471012124062161"
     },
     "user_tz": -480
    },
    "id": "B5VnRspBctEt",
    "outputId": "80ff1739-00a5-4354-f4bc-95071113b28f"
   },
   "outputs": [],
   "source": [
    "f, axes = plt.subplots(1, 1, figsize=(16,8))\n",
    "plt.scatter(x = \"www_likes\", y = \"likes\", data = likesData)\n"
   ]
  },
  {
   "cell_type": "code",
   "execution_count": null,
   "metadata": {
    "colab": {
     "base_uri": "https://localhost:8080/",
     "height": 502
    },
    "executionInfo": {
     "elapsed": 2001,
     "status": "ok",
     "timestamp": 1602412619843,
     "user": {
      "displayName": "Yee Hong Ng",
      "photoUrl": "https://lh3.googleusercontent.com/a-/AOh14GgS0QilRQRwkflMS5mCNwfT3TmC3rDn-JQ3epH0hv8=s64",
      "userId": "04330471012124062161"
     },
     "user_tz": -480
    },
    "id": "pV_19kwefwh7",
    "outputId": "5b794174-e52e-46cc-bb7c-cf7acd98f367",
    "scrolled": true
   },
   "outputs": [],
   "source": [
    "f, axes = plt.subplots(1, 1, figsize=(16,8))\n",
    "plt.scatter(x = \"www_likes\", y = \"likes\", data = likesData)"
   ]
  },
  {
   "cell_type": "markdown",
   "metadata": {
    "id": "8JLzmRIsctEw"
   },
   "source": [
    "The two scatter plot for both the mobile likes and www likes against the total likes shows us which medium has a higher usage. Mobile likes and total likes sees more of their likes within a larger region and hence, we can briefly conclude that more users interacts with the like button from their mobile.\n",
    "\n",
    "(explanation for this is uncertain, open for discussion and changes)"
   ]
  },
  {
   "cell_type": "markdown",
   "metadata": {
    "id": "ob5BnnTcICvy"
   },
   "source": [
    "### 3. Interactive Visualisation"
   ]
  },
  {
   "cell_type": "code",
   "execution_count": null,
   "metadata": {
    "executionInfo": {
     "elapsed": 1675,
     "status": "ok",
     "timestamp": 1602412624058,
     "user": {
      "displayName": "Yee Hong Ng",
      "photoUrl": "https://lh3.googleusercontent.com/a-/AOh14GgS0QilRQRwkflMS5mCNwfT3TmC3rDn-JQ3epH0hv8=s64",
      "userId": "04330471012124062161"
     },
     "user_tz": -480
    },
    "id": "EmtqymN6ICvz"
   },
   "outputs": [],
   "source": [
    "import plotly.offline as py\n",
    "import plotly.graph_objs as go\n",
    "import plotly.express as px"
   ]
  },
  {
   "cell_type": "code",
   "execution_count": null,
   "metadata": {
    "colab": {
     "base_uri": "https://localhost:8080/",
     "height": 542
    },
    "executionInfo": {
     "elapsed": 1627,
     "status": "ok",
     "timestamp": 1602412952753,
     "user": {
      "displayName": "Yee Hong Ng",
      "photoUrl": "https://lh3.googleusercontent.com/a-/AOh14GgS0QilRQRwkflMS5mCNwfT3TmC3rDn-JQ3epH0hv8=s64",
      "userId": "04330471012124062161"
     },
     "user_tz": -480
    },
    "id": "vwgAvqfgICv4",
    "outputId": "139ba3fb-dfc3-4240-ced9-ae08b1e640a9"
   },
   "outputs": [],
   "source": [
    "trace = go.Histogram(x = data_Final['age group'], histnorm = 'density')\n",
    "layout = go.Layout(title = 'Number of Facebook users')\n",
    "data = [trace]\n",
    "fig = go.Figure(data = data, layout = layout)\n",
    "py.iplot(fig)\n",
    "\n",
    "# can compare with the non-interactive plot"
   ]
  },
  {
   "cell_type": "code",
   "execution_count": null,
   "metadata": {
    "colab": {
     "base_uri": "https://localhost:8080/",
     "height": 542
    },
    "executionInfo": {
     "elapsed": 2712,
     "status": "ok",
     "timestamp": 1602412627493,
     "user": {
      "displayName": "Yee Hong Ng",
      "photoUrl": "https://lh3.googleusercontent.com/a-/AOh14GgS0QilRQRwkflMS5mCNwfT3TmC3rDn-JQ3epH0hv8=s64",
      "userId": "04330471012124062161"
     },
     "user_tz": -480
    },
    "id": "9LejEF28ICv8",
    "outputId": "e2b96184-802e-4124-ce20-bb37f58c237d"
   },
   "outputs": [],
   "source": [
    "fig = px.box(data_Final,x='gender',y='likes_received')\n",
    "fig.show()"
   ]
  },
  {
   "cell_type": "code",
   "execution_count": null,
   "metadata": {
    "executionInfo": {
     "elapsed": 1780,
     "status": "ok",
     "timestamp": 1602412627495,
     "user": {
      "displayName": "Yee Hong Ng",
      "photoUrl": "https://lh3.googleusercontent.com/a-/AOh14GgS0QilRQRwkflMS5mCNwfT3TmC3rDn-JQ3epH0hv8=s64",
      "userId": "04330471012124062161"
     },
     "user_tz": -480
    },
    "id": "owsUF0IKPDr8"
   },
   "outputs": [],
   "source": []
  }
 ],
 "metadata": {
  "colab": {
   "collapsed_sections": [],
   "name": "ANATA_V5.ipynb",
   "provenance": []
  },
  "kernelspec": {
   "display_name": "Python 3",
   "language": "python",
   "name": "python3"
  },
  "language_info": {
   "codemirror_mode": {
    "name": "ipython",
    "version": 3
   },
   "file_extension": ".py",
   "mimetype": "text/x-python",
   "name": "python",
   "nbconvert_exporter": "python",
   "pygments_lexer": "ipython3",
   "version": "3.7.4"
  }
 },
 "nbformat": 4,
 "nbformat_minor": 1
}
