{
 "cells": [
  {
   "cell_type": "markdown",
   "metadata": {
    "id": "QN1jbNlebN2Z"
   },
   "source": [
    "\n",
    "# **Exploratory Data Analysis on Retaining Customers**\n",
    "\n",
    "*   Knowing our customers is important when we engage in online transactions\n",
    "*   Customer data allows us to understand what we can do better\n",
    "*   Churn  is an important metric (Number of customers leaving our service)\n",
    "\n",
    "**Monitoring Churn behaviour**\n",
    "*   We can associate various categorical and numerical factors/characteristics of consumers and their decision to leave the service. We can then target these consumers through our marketing strategies through further analysis \n",
    "\n",
    "* In this case, we are going to see which consumers leave (Churn), and what characteristics to they have. This information can be used in Machine Learning to train and predict for Characteristics and their likelihood to Churn\n",
    "\n",
    "\n"
   ]
  },
  {
   "cell_type": "markdown",
   "metadata": {
    "id": "nhJjWmE4ZwlO"
   },
   "source": [
    "**IMPORTING LIBRARIES**"
   ]
  },
  {
   "cell_type": "code",
   "execution_count": null,
   "metadata": {
    "id": "JtlJPmaOZBeH"
   },
   "outputs": [],
   "source": [
    "import numpy as np\n",
    "import pandas as pd\n",
    "import matplotlib.pyplot as plt\n",
    "import seaborn as sns"
   ]
  },
  {
   "cell_type": "markdown",
   "metadata": {
    "id": "4xfsgBRGZ5Jl"
   },
   "source": [
    "**Read the 'Telco.csv' file using the Pandas library and save it under the 'df' variable.** Hint: use pd.read_csv('filename.csv')"
   ]
  },
  {
   "cell_type": "code",
   "execution_count": null,
   "metadata": {
    "id": "wYG56zmdZKyc"
   },
   "outputs": [],
   "source": [
    "df.head()"
   ]
  },
  {
   "cell_type": "markdown",
   "metadata": {
    "id": "tYfaN5BjaLJr"
   },
   "source": [
    "**Check dimensions of DataFrame**\n"
   ]
  },
  {
   "cell_type": "code",
   "execution_count": null,
   "metadata": {
    "id": "oCF-H-bmZRyb"
   },
   "outputs": [],
   "source": [
    "print(df.shape)"
   ]
  },
  {
   "cell_type": "markdown",
   "metadata": {
    "id": "evONjM-sZu0d"
   },
   "source": [
    "**Check the Data type and Data information** "
   ]
  },
  {
   "cell_type": "code",
   "execution_count": null,
   "metadata": {
    "id": "nEVnrUt7fZeN"
   },
   "outputs": [],
   "source": [
    "columns = df.columns.unique()\n",
    "columns"
   ]
  },
  {
   "cell_type": "code",
   "execution_count": null,
   "metadata": {
    "id": "oxONuxhXanx6"
   },
   "outputs": [],
   "source": [
    "df.info()\n",
    "# This step allows us to identify any data cleaning steps we need to undertake"
   ]
  },
  {
   "cell_type": "markdown",
   "metadata": {
    "id": "chWgdEKxeZAm"
   },
   "source": [
    "We can notice some changes (cleaning) we want to undertake:  \n",
    "\n",
    "*   Firstly, we want to check for any missing values (common data cleaning step)\n",
    "* 'TotalCharges' (a number) is stored as an 'object'\n",
    "*  To maintain conformity, the 'SeniorCitizen' column needs to change to \"Yes/No\" to maintain conformity with other columns (0 = No, 1 = Yes)\n",
    "* Many of the 'Object' columns can be changed to 'Category' dtypes\n",
    "\n"
   ]
  },
  {
   "cell_type": "code",
   "execution_count": null,
   "metadata": {
    "id": "rNcLp9STWeH4"
   },
   "outputs": [],
   "source": [
    "df.head(2)"
   ]
  },
  {
   "cell_type": "markdown",
   "metadata": {
    "id": "B70n0m5M6j7f"
   },
   "source": [
    "**Exercise 1:** Check for the null values using the **.isnull().sum()** command"
   ]
  },
  {
   "cell_type": "code",
   "execution_count": null,
   "metadata": {
    "id": "9MU2EjE-mJ6t"
   },
   "outputs": [],
   "source": []
  },
  {
   "cell_type": "markdown",
   "metadata": {
    "id": "Scpaqjf0mTRB"
   },
   "source": [
    "Although Data shows no missing values per se, if a row has a blank space (''), it is not considered 'Missing', hence, we need to undertake an additional step. Let's see one of the rows for example:"
   ]
  },
  {
   "cell_type": "code",
   "execution_count": null,
   "metadata": {
    "id": "AzCK4z4dYe1j"
   },
   "outputs": [],
   "source": [
    "# Finding the rows is beyond the scope of this workshop, but if you are interested, this is the code: \n",
    "#Blank_values = df[df['TotalCharges']==' '].index\n",
    "\n",
    "df.loc[487:489]"
   ]
  },
  {
   "cell_type": "markdown",
   "metadata": {
    "id": "VHVT_N_7c73B"
   },
   "source": [
    "We will replace all these blank spaces **(' ')** as **NaN** (Not a Number)"
   ]
  },
  {
   "cell_type": "code",
   "execution_count": null,
   "metadata": {
    "id": "WfCDdtUXk4KB"
   },
   "outputs": [],
   "source": [
    "df.replace(' ', np.nan, inplace=True)"
   ]
  },
  {
   "cell_type": "markdown",
   "metadata": {
    "id": "0EVbOqZqc1Bz"
   },
   "source": [
    "Now if we check the null values, we get:"
   ]
  },
  {
   "cell_type": "code",
   "execution_count": null,
   "metadata": {
    "id": "IFf1HfPXlQhM"
   },
   "outputs": [],
   "source": [
    "df.isnull().sum()"
   ]
  },
  {
   "cell_type": "markdown",
   "metadata": {
    "id": "-UUr-_DLdSP1"
   },
   "source": [
    "We get **11 null values for the TotalCharges Column**! Something which could have been problematic for later Data Cleaning and Visualisation!"
   ]
  },
  {
   "cell_type": "markdown",
   "metadata": {
    "id": "ffthk77Vdfla"
   },
   "source": [
    "**Exercise 2:** Drop the null values from df, use **.dropna(how = 'any', inplace=True)**"
   ]
  },
  {
   "cell_type": "code",
   "execution_count": null,
   "metadata": {
    "id": "ZM-VWyxkmzjM"
   },
   "outputs": [],
   "source": []
  },
  {
   "cell_type": "code",
   "execution_count": null,
   "metadata": {
    "id": "wLDmRG4im435"
   },
   "outputs": [],
   "source": [
    "df.isnull().sum()"
   ]
  },
  {
   "cell_type": "markdown",
   "metadata": {
    "id": "iehsXD1_d_pE"
   },
   "source": [
    "Sweet! Now we have to change:\n",
    "*  To maintain conformity, we need to change **'SeniorCitizen'** column to \"Yes/No\" (0 = No, 1 = Yes)\n",
    "* Many of the 'Object' columns can be changed to 'Category' dtypes\n",
    "* **'TotalCharges'** to a 'Float'"
   ]
  },
  {
   "cell_type": "markdown",
   "metadata": {
    "id": "d874IFCRWksm"
   },
   "source": [
    "We can use the **.map({})** method to substitute values in the Senior Citizen column in one go"
   ]
  },
  {
   "cell_type": "code",
   "execution_count": null,
   "metadata": {
    "id": "CIy6IN9Yg6vF"
   },
   "outputs": [],
   "source": [
    "df['SeniorCitizen']=df['SeniorCitizen'].map({0:'No', 1:'Yes'})\n",
    "df.head(2)"
   ]
  },
  {
   "cell_type": "markdown",
   "metadata": {
    "id": "m6SfHApgnAo4"
   },
   "source": [
    "We can now convert the datatypes to their appropriate forms. For ex. Changing the dtypes to category columns for Gender, SeniorCitizen etc."
   ]
  },
  {
   "cell_type": "code",
   "execution_count": null,
   "metadata": {
    "id": "-jwGrqUQe5go"
   },
   "outputs": [],
   "source": [
    "df['gender'] = df['gender'].astype('category')\n",
    "\n",
    "df[['SeniorCitizen','Partner','Dependents','PhoneService','MultipleLines','InternetService','OnlineSecurity','OnlineBackup','DeviceProtection','TechSupport','StreamingTV','StreamingMovies','Contract','PaperlessBilling','PaymentMethod','Churn']] = df[['SeniorCitizen','Partner','Dependents','PhoneService','MultipleLines','InternetService','OnlineSecurity','OnlineBackup','DeviceProtection','TechSupport','StreamingTV','StreamingMovies','Contract','PaperlessBilling','PaymentMethod','Churn']].astype('category') "
   ]
  },
  {
   "cell_type": "markdown",
   "metadata": {
    "id": "gRvTHN-tgCgf"
   },
   "source": [
    "**Exercise 3:** Change the 'TotalCharges' column to a 'float' dtype (Note: Do not put quotations for float)"
   ]
  },
  {
   "cell_type": "code",
   "execution_count": null,
   "metadata": {
    "id": "pn9DPggnfSUp"
   },
   "outputs": [],
   "source": []
  },
  {
   "cell_type": "code",
   "execution_count": null,
   "metadata": {
    "id": "NIryzT0Tmmo7"
   },
   "outputs": [],
   "source": [
    "df.info()"
   ]
  },
  {
   "cell_type": "code",
   "execution_count": null,
   "metadata": {
    "id": "Jkjxh0F-hHwE"
   },
   "outputs": [],
   "source": [
    "df.columns = ['CustomerID', 'Gender', 'SeniorCitizen', 'Partner', 'Dependents',\n",
    "       'Tenure', 'PhoneService', 'MultipleLines', 'InternetService',\n",
    "       'OnlineSecurity', 'OnlineBackup', 'DeviceProtection', 'TechSupport',\n",
    "       'StreamingTV', 'StreamingMovies', 'Contract', 'PaperlessBilling',\n",
    "       'PaymentMethod', 'MonthlyCharges', 'TotalCharges', 'Churn']"
   ]
  },
  {
   "cell_type": "code",
   "execution_count": null,
   "metadata": {
    "id": "afUppnPSiA4K"
   },
   "outputs": [],
   "source": [
    "df.head()"
   ]
  },
  {
   "cell_type": "markdown",
   "metadata": {
    "id": "foFJOQLuntLn"
   },
   "source": [
    "**Summary of Data**"
   ]
  },
  {
   "cell_type": "code",
   "execution_count": null,
   "metadata": {
    "id": "dqV5LuOGnKCo"
   },
   "outputs": [],
   "source": [
    "df.describe(include='all')"
   ]
  },
  {
   "cell_type": "code",
   "execution_count": null,
   "metadata": {
    "id": "wjTO-U1_nqTM"
   },
   "outputs": [],
   "source": [
    "df['SeniorCitizen'].value_counts()\n",
    "# Majority are not Senior Citizens"
   ]
  },
  {
   "cell_type": "markdown",
   "metadata": {
    "id": "wMXJne7toa06"
   },
   "source": [
    "We can notice proportion of each category through **.value_counts()**\n",
    ". In this case, we notice how Senior Citizens are a minority (16.24%)"
   ]
  },
  {
   "cell_type": "markdown",
   "metadata": {
    "id": "BYl1cl1yo6j7"
   },
   "source": [
    "**DATA EXPLORATION AND ANALYSIS**"
   ]
  },
  {
   "cell_type": "markdown",
   "metadata": {
    "id": "p8piRpG-l0ws"
   },
   "source": [
    "Creating Filter conditions\n",
    "* We can create filter conditions by the tenure (Number of months customer spent as a subscriber)\n",
    "* To understand the trends by dividing the tenures into different categories (first let's find the min/max)"
   ]
  },
  {
   "cell_type": "code",
   "execution_count": null,
   "metadata": {
    "id": "DQhmCy3WoM1i"
   },
   "outputs": [],
   "source": [
    "#Creating Filter conditions\n",
    "#We can create filter conditions by the tenure (Number of months customer spent as a subscriber)\n",
    "#To understand the trends by dividing the tenures into different categories (first let's find the min/max)\n",
    "\n",
    "print('Minimum Tenure = ' + str(df['Tenure'].min())+ ' month(s)')\n",
    "print('Maximum Tenure = '+ str(df['Tenure'].max())+ ' month(s)')"
   ]
  },
  {
   "cell_type": "markdown",
   "metadata": {
    "id": "DFtG6_C8yjju"
   },
   "source": [
    "Now we can assign the Conditions\n",
    "\n",
    "* We want to divide it into multiples of 12 months\n",
    "\n"
   ]
  },
  {
   "cell_type": "code",
   "execution_count": null,
   "metadata": {
    "id": "a0T6el85ui4Z"
   },
   "outputs": [],
   "source": [
    "A = (df['Tenure']<12)\n",
    "B = (12<=df['Tenure']) & (24>df['Tenure'])\n",
    "C = (24 <=df['Tenure']) & (48>df['Tenure'])\n",
    "D = (48<=df['Tenure']) & (60>df['Tenure'])\n",
    "E = (df['Tenure']>60)"
   ]
  },
  {
   "cell_type": "code",
   "execution_count": null,
   "metadata": {
    "id": "f3EQ5xd9vZ2F"
   },
   "outputs": [],
   "source": [
    "# Assign rows that satisfy this condition to a variable\n",
    "A_col = pd.DataFrame(df.loc[A,:])\n",
    "B_col = pd.DataFrame(df.loc[B,:])\n",
    "C_col = pd.DataFrame(df.loc[C,:])\n",
    "D_col = pd.DataFrame(df.loc[D,:])\n",
    "E_col = pd.DataFrame(df.loc[E,:])\n",
    "\n",
    "A_col\n",
    "#A_col['Tenure'].value_counts()"
   ]
  },
  {
   "cell_type": "code",
   "execution_count": null,
   "metadata": {
    "id": "Z6aLb7gjy0uf"
   },
   "outputs": [],
   "source": [
    "A_col.insert(2,'Tenure_range','<12')\n",
    "B_col.insert(2,'Tenure_range','12-24')\n",
    "C_col.insert(2,'Tenure_range', '24-48')\n",
    "D_col.insert(2,'Tenure_range', '48-60')\n",
    "E_col.insert(2,'Tenure_range','>60')"
   ]
  },
  {
   "cell_type": "code",
   "execution_count": null,
   "metadata": {
    "id": "XZ5Pxcjy1Toq"
   },
   "outputs": [],
   "source": [
    "E_col.head()"
   ]
  },
  {
   "cell_type": "code",
   "execution_count": null,
   "metadata": {
    "id": "IgN6ByxV1mZa"
   },
   "outputs": [],
   "source": [
    "df2 = A_col.append([B_col,C_col,D_col,E_col])\n",
    "df2['Tenure_range'].value_counts()"
   ]
  },
  {
   "cell_type": "code",
   "execution_count": null,
   "metadata": {
    "id": "jFwdJxVmKu3o"
   },
   "outputs": [],
   "source": [
    "#Let's check how many of our customers have left (overall)\n",
    "df2['Churn'].value_counts()"
   ]
  },
  {
   "cell_type": "markdown",
   "metadata": {
    "id": "UbqGk3K0Mt60"
   },
   "source": [
    "As we can see here, more customers have stayed than left over the time period of this dataset, which is what is expected. But now we need to see what are the characteristics of the people who churn"
   ]
  },
  {
   "cell_type": "markdown",
   "metadata": {
    "id": "smZ-SXUW22RK"
   },
   "source": [
    "**VISUALISATION OF DATA** - We can now see how Churn rate varies with different factors. "
   ]
  },
  {
   "cell_type": "markdown",
   "metadata": {
    "id": "rkJpwU2qkeHw"
   },
   "source": [
    "For visualisation, we would not need some columns (for ex. CustomerID and Tenure), hence we can drop them here"
   ]
  },
  {
   "cell_type": "code",
   "execution_count": null,
   "metadata": {
    "id": "J8wtgU58kcxZ"
   },
   "outputs": [],
   "source": [
    "df3 = df2.copy()"
   ]
  },
  {
   "cell_type": "code",
   "execution_count": null,
   "metadata": {
    "id": "2Id1E5sDkwTH"
   },
   "outputs": [],
   "source": [
    "df3 = df3.drop('CustomerID',axis=1)\n",
    "df3.head()\n"
   ]
  },
  {
   "cell_type": "markdown",
   "metadata": {
    "id": "W8p7yxd8k7_y"
   },
   "source": [
    "**Exercise 4:** Please drop the Tenure Column in **df3** (we already have Tenure_range, so it will be duplicate data)"
   ]
  },
  {
   "cell_type": "code",
   "execution_count": null,
   "metadata": {
    "id": "ic4HZjJhlP4q"
   },
   "outputs": [],
   "source": []
  },
  {
   "cell_type": "code",
   "execution_count": null,
   "metadata": {
    "id": "NrQsbFD010Ra"
   },
   "outputs": [],
   "source": [
    "#Let's first plot the frequency distribution of the Tenure range to see how the trends vary for subscription length\n",
    "\n",
    "df3['Tenure_range'].value_counts().plot(kind='bar')\n",
    "plt.ylabel('Count')\n",
    "plt.xlabel('Tenure Range')\n",
    "plt.title('How does Tenure range vary in our dataset')\n",
    "plt.show()"
   ]
  },
  {
   "cell_type": "markdown",
   "metadata": {
    "id": "2NBy6bqn5QPq"
   },
   "source": [
    "The count plot can also be produced using Seaborn. \n",
    "In our current plot, we can notice how a tenure range of lesser than 12 months is the most common, suggesting that many users do not subscribe for longer than a year. We can now associate characteristics of our consumers with their decision to leave (churn) to better understand our clients."
   ]
  },
  {
   "cell_type": "code",
   "execution_count": null,
   "metadata": {
    "id": "HsMsKaV23V9h"
   },
   "outputs": [],
   "source": [
    "def Createplot(dataset,column1,column2,name):\n",
    "  dataset.groupby([column1,column2]).size().unstack(fill_value=0).plot(kind='bar')\n",
    "  plt.title(str(name)+' as a factor of Churn')\n",
    "  plt.xlabel(name)\n",
    "  plt.ylabel('Count')\n",
    "  \n",
    "  \n",
    "\n",
    "\n"
   ]
  },
  {
   "cell_type": "code",
   "execution_count": null,
   "metadata": {
    "id": "jerIBnra7wh7"
   },
   "outputs": [],
   "source": [
    "Gender=Createplot(df3,'Gender','Churn', name='Gender')\n",
    "Contract = Createplot(df3,'Contract', 'Churn','Contract')\n",
    "Payment_method = Createplot(df3,'PaymentMethod','Churn','Payment Method')\n",
    "\n",
    "\n",
    "\n"
   ]
  },
  {
   "cell_type": "markdown",
   "metadata": {
    "id": "avNzykF2645r"
   },
   "source": [
    "**Exercise 5:** Try using the **Createplot()** function to visualise the Churn characteristics for:\n",
    "* Senior Citizens \n",
    "* Partner\n",
    "\n",
    "(Ensure you are naming the columns properly, including the caps lock and spaces for the column names!)"
   ]
  },
  {
   "cell_type": "code",
   "execution_count": null,
   "metadata": {
    "id": "EsBv_rmh7EJP"
   },
   "outputs": [],
   "source": []
  },
  {
   "cell_type": "markdown",
   "metadata": {
    "id": "nX_wo7jPnLHw"
   },
   "source": [
    "These plots can also be done using Seaborn.\n",
    "\n",
    "If it interests you, you can find information on the **seaborn.FacetGrid()** method"
   ]
  },
  {
   "cell_type": "code",
   "execution_count": null,
   "metadata": {
    "id": "-e928VA6y6vD"
   },
   "outputs": [],
   "source": [
    "g = sns.FacetGrid(df2,col='Contract',row='Gender',hue='Churn')\n",
    "g.map(sns.distplot,'Tenure').add_legend()\n",
    "\n",
    "plt.show()"
   ]
  },
  {
   "cell_type": "code",
   "execution_count": null,
   "metadata": {
    "id": "4GCH0OObIS7N"
   },
   "outputs": [],
   "source": []
  },
  {
   "cell_type": "code",
   "execution_count": null,
   "metadata": {
    "id": "Mp6OlGaUQCSz"
   },
   "outputs": [],
   "source": []
  }
 ],
 "metadata": {
  "colab": {
   "collapsed_sections": [],
   "name": "CaseStudy_DataAnalysis.ipynb",
   "provenance": [],
   "toc_visible": true
  },
  "kernelspec": {
   "display_name": "Python 3",
   "language": "python",
   "name": "python3"
  },
  "language_info": {
   "codemirror_mode": {
    "name": "ipython",
    "version": 3
   },
   "file_extension": ".py",
   "mimetype": "text/x-python",
   "name": "python",
   "nbconvert_exporter": "python",
   "pygments_lexer": "ipython3",
   "version": "3.7.4"
  }
 },
 "nbformat": 4,
 "nbformat_minor": 1
}
